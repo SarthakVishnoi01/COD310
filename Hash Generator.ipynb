{
 "cells": [
  {
   "cell_type": "code",
   "execution_count": 77,
   "metadata": {},
   "outputs": [],
   "source": [
    "import hashlib\n",
    "import numpy as np\n",
    "import glob\n",
    "import os\n",
    "import PyPDF2 \n",
    "from py_essentials import hashing as hs\n",
    "import array \n",
    "from os.path import join as pjoin\n",
    "from PyPDF2 import PdfFileWriter\n",
    "from reportlab.platypus import SimpleDocTemplate\n",
    "from reportlab.lib.styles import getSampleStyleSheet\n",
    "from reportlab.platypus import Paragraph"
   ]
  },
  {
   "cell_type": "code",
   "execution_count": 78,
   "metadata": {},
   "outputs": [],
   "source": [
    "#Enter the location of COD310 directory in your system in this variable\n",
    "pathDirectory = \"/home/sarthak/Sem6/COD310/\"\n",
    "\n",
    "#Sub Directories in COD310\n",
    "pdf = pathDirectory + \"PDF/\"\n",
    "HashedPDF = pathDirectory + \"HashedPDF/\"\n",
    "\n",
    "#Files in any of these subDirectories\n",
    "index = HashedPDF + \"index.pdf\"\n",
    "finalHashPath = HashedPDF + \"finalHash.pdf\""
   ]
  },
  {
   "cell_type": "code",
   "execution_count": 79,
   "metadata": {},
   "outputs": [
    {
     "name": "stdout",
     "output_type": "stream",
     "text": [
      "['abc.pdf', 'pdf.pdf', 'bitcoin.pdf', 'Lecture-Notes-Ia.pdf', 'pdf-sample.pdf', 'c4611_sample_explain.pdf', 'netecon17.pdf', 'sample.pdf']\n"
     ]
    }
   ],
   "source": [
    "# import os\n",
    "# path = pathDirectory + pdf\n",
    "file_list = [f for f in os.listdir(pdf) if os.path.isfile(os.path.join(pdf, f)) and f.endswith('.pdf')]\n",
    "print(file_list)"
   ]
  },
  {
   "cell_type": "code",
   "execution_count": 80,
   "metadata": {},
   "outputs": [
    {
     "name": "stdout",
     "output_type": "stream",
     "text": [
      "8\n"
     ]
    }
   ],
   "source": [
    "print(len(file_list))"
   ]
  },
  {
   "cell_type": "code",
   "execution_count": 81,
   "metadata": {},
   "outputs": [
    {
     "name": "stdout",
     "output_type": "stream",
     "text": [
      "4c76b7a367c810aa717ec49caf5bd8ee3edeefd197241f6bd3698ed5de2c4ddc\n",
      "ebb031c3945e884e695dbc63c52a5efcd075375046c49729980073585ee13c52\n",
      "b1674191a88ec5cdd733e4240a81803105dc412d6c6708d53ab94fc248f4f553\n",
      "5e4e9e6bb9930ae643f981e1e22f2404666f519ce828bbb4338d827f1bc9065a\n",
      "60bdd13ea4827b8de375c79dc3ff847f83b55bd73b6461523fdf8f843b5a0d5b\n",
      "2353deadc9fa87817413b239841a373fb51de8b74a75d3c8c863de735ca0b4a0\n",
      "fed7ae2de961b765f57b6087de276ff58774ff4123f81263b435b143c50006d6\n",
      "8decc8571946d4cd70a024949e033a2a2a54377fe9f1c1b944c20f9ee11a9e51\n"
     ]
    }
   ],
   "source": [
    "# arr = array.array(len(file_list))\n",
    "hashes = []\n",
    "for i in range(len(file_list)):\n",
    "    location = pdf + file_list[i]\n",
    "    hash = hs.fileChecksum(location, \"sha256\")\n",
    "    print(hash)\n",
    "    hashes.append(hash)"
   ]
  },
  {
   "cell_type": "code",
   "execution_count": 82,
   "metadata": {},
   "outputs": [],
   "source": [
    "my_doc = SimpleDocTemplate(index)"
   ]
  },
  {
   "cell_type": "code",
   "execution_count": 84,
   "metadata": {},
   "outputs": [],
   "source": [
    "flowables = []\n",
    "paragraphs = []\n",
    "\n",
    "my_doc.build(flowables)\n",
    "sample_style_sheet = getSampleStyleSheet()\n",
    "for i in range(len(hashes)):\n",
    "    paragraphs.append(Paragraph(hashes[i], sample_style_sheet['BodyText']))\n",
    "    flowables.append(paragraphs[i])\n",
    "my_doc.build(flowables)    "
   ]
  },
  {
   "cell_type": "code",
   "execution_count": 76,
   "metadata": {},
   "outputs": [
    {
     "name": "stdout",
     "output_type": "stream",
     "text": [
      "36be563c630c9f82bae54ccff6df2cc13e6f7c55b9b467fd835158632882d118\n"
     ]
    },
    {
     "ename": "NameError",
     "evalue": "name 'finalHashPath' is not defined",
     "output_type": "error",
     "traceback": [
      "\u001b[0;31m---------------------------------------------------------------------------\u001b[0m",
      "\u001b[0;31mNameError\u001b[0m                                 Traceback (most recent call last)",
      "\u001b[0;32m<ipython-input-76-5f0f2ff3d418>\u001b[0m in \u001b[0;36m<module>\u001b[0;34m\u001b[0m\n\u001b[1;32m      5\u001b[0m \u001b[0mfinalHash\u001b[0m \u001b[0;34m=\u001b[0m \u001b[0mhash\u001b[0m\u001b[0;34m\u001b[0m\u001b[0;34m\u001b[0m\u001b[0m\n\u001b[1;32m      6\u001b[0m \u001b[0;34m\u001b[0m\u001b[0m\n\u001b[0;32m----> 7\u001b[0;31m \u001b[0mdocc\u001b[0m \u001b[0;34m=\u001b[0m \u001b[0mSimpleDocTemplate\u001b[0m\u001b[0;34m(\u001b[0m\u001b[0mfinalHashPath\u001b[0m\u001b[0;34m)\u001b[0m\u001b[0;34m\u001b[0m\u001b[0;34m\u001b[0m\u001b[0m\n\u001b[0m\u001b[1;32m      8\u001b[0m \u001b[0mflowables\u001b[0m \u001b[0;34m=\u001b[0m \u001b[0;34m[\u001b[0m\u001b[0;34m]\u001b[0m\u001b[0;34m\u001b[0m\u001b[0;34m\u001b[0m\u001b[0m\n\u001b[1;32m      9\u001b[0m \u001b[0mdocc\u001b[0m\u001b[0;34m.\u001b[0m\u001b[0mbuild\u001b[0m\u001b[0;34m(\u001b[0m\u001b[0mflowables\u001b[0m\u001b[0;34m)\u001b[0m\u001b[0;34m\u001b[0m\u001b[0;34m\u001b[0m\u001b[0m\n",
      "\u001b[0;31mNameError\u001b[0m: name 'finalHashPath' is not defined"
     ]
    }
   ],
   "source": [
    "finalHash = \"\"\n",
    "\n",
    "hash = hs.fileChecksum(index, \"sha256\")\n",
    "print(hash)\n",
    "finalHash = hash\n",
    "\n",
    "docc = SimpleDocTemplate(finalHashPath)\n",
    "flowables = []\n",
    "docc.build(flowables)\n",
    "sample_style_sheet = getSampleStyleSheet()\n",
    "paragraph = Paragraph(finalHash, sample_style_sheet['BodyText'])\n",
    "flowables.append(paragraph)\n",
    "docc.build(flowables)"
   ]
  },
  {
   "cell_type": "code",
   "execution_count": null,
   "metadata": {},
   "outputs": [],
   "source": []
  }
 ],
 "metadata": {
  "kernelspec": {
   "display_name": "Python 3",
   "language": "python",
   "name": "python3"
  },
  "language_info": {
   "codemirror_mode": {
    "name": "ipython",
    "version": 3
   },
   "file_extension": ".py",
   "mimetype": "text/x-python",
   "name": "python",
   "nbconvert_exporter": "python",
   "pygments_lexer": "ipython3",
   "version": "3.7.1"
  }
 },
 "nbformat": 4,
 "nbformat_minor": 2
}
