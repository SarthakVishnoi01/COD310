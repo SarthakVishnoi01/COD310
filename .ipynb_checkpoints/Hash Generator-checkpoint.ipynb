{
 "cells": [
  {
   "cell_type": "code",
   "execution_count": 6,
   "metadata": {},
   "outputs": [],
   "source": [
    "import hashlib\n",
    "import numpy as np\n",
    "import glob\n",
    "import os\n",
    "import PyPDF2 \n",
    "from py_essentials import hashing as hs\n",
    "import array "
   ]
  },
  {
   "cell_type": "code",
   "execution_count": 7,
   "metadata": {},
   "outputs": [
    {
     "name": "stdout",
     "output_type": "stream",
     "text": [
      "['abc.pdf', 'pdf.pdf', 'bitcoin.pdf', 'Lecture-Notes-Ia.pdf', 'pdf-sample.pdf', 'c4611_sample_explain.pdf', 'netecon17.pdf', 'sample.pdf']\n"
     ]
    }
   ],
   "source": [
    "# import os\n",
    "path = \"/home/sarthak/Sem6/COD310/PDF\"\n",
    "file_list = [f for f in os.listdir(path) if os.path.isfile(os.path.join(path, f)) and f.endswith('.pdf')]\n",
    "print(file_list)"
   ]
  },
  {
   "cell_type": "code",
   "execution_count": 11,
   "metadata": {},
   "outputs": [
    {
     "name": "stdout",
     "output_type": "stream",
     "text": [
      "8\n",
      "ABabc.pdf\n"
     ]
    }
   ],
   "source": [
    "print(len(file_list))\n",
    "# s = \"AB\" + file_list[0]\n",
    "print(s)"
   ]
  },
  {
   "cell_type": "code",
   "execution_count": 13,
   "metadata": {},
   "outputs": [
    {
     "name": "stdout",
     "output_type": "stream",
     "text": [
      "4c76b7a367c810aa717ec49caf5bd8ee3edeefd197241f6bd3698ed5de2c4ddc\n",
      "ebb031c3945e884e695dbc63c52a5efcd075375046c49729980073585ee13c52\n",
      "b1674191a88ec5cdd733e4240a81803105dc412d6c6708d53ab94fc248f4f553\n",
      "5e4e9e6bb9930ae643f981e1e22f2404666f519ce828bbb4338d827f1bc9065a\n",
      "60bdd13ea4827b8de375c79dc3ff847f83b55bd73b6461523fdf8f843b5a0d5b\n",
      "2353deadc9fa87817413b239841a373fb51de8b74a75d3c8c863de735ca0b4a0\n",
      "fed7ae2de961b765f57b6087de276ff58774ff4123f81263b435b143c50006d6\n",
      "8decc8571946d4cd70a024949e033a2a2a54377fe9f1c1b944c20f9ee11a9e51\n"
     ]
    }
   ],
   "source": [
    "# arr = array.array(len(file_list))\n",
    "hashes = []\n",
    "for i in range(len(file_list)):\n",
    "    s = \"/home/sarthak/Sem6/COD310/PDF/\" + file_list[i]\n",
    "    hash = hs.fileChecksum(s, \"sha256\")\n",
    "    print(hash)\n",
    "    hashes.append(hash)"
   ]
  },
  {
   "cell_type": "code",
   "execution_count": null,
   "metadata": {},
   "outputs": [],
   "source": [
    "print(hashes)"
   ]
  },
  {
   "cell_type": "code",
   "execution_count": 14,
   "metadata": {},
   "outputs": [
    {
     "name": "stdout",
     "output_type": "stream",
     "text": [
      "sample.pdf\n"
     ]
    }
   ],
   "source": [
    "print(file_list[i])"
   ]
  },
  {
   "cell_type": "code",
   "execution_count": null,
   "metadata": {},
   "outputs": [],
   "source": [
    "print(hs.Checksum(\"sample.pdf\"))\n",
    "print(hashes[0])"
   ]
  }
 ],
 "metadata": {
  "kernelspec": {
   "display_name": "Python 3",
   "language": "python",
   "name": "python3"
  },
  "language_info": {
   "codemirror_mode": {
    "name": "ipython",
    "version": 3
   },
   "file_extension": ".py",
   "mimetype": "text/x-python",
   "name": "python",
   "nbconvert_exporter": "python",
   "pygments_lexer": "ipython3",
   "version": "3.7.1"
  }
 },
 "nbformat": 4,
 "nbformat_minor": 2
}
