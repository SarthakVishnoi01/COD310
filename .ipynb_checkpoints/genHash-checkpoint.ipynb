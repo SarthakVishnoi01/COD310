{
 "cells": [
  {
   "cell_type": "code",
   "execution_count": 1,
   "metadata": {},
   "outputs": [],
   "source": [
    "import hashlib\n",
    "import numpy as np\n",
    "import glob\n",
    "import os\n",
    "import PyPDF2 \n",
    "import sys\n",
    "from py_essentials import hashing as hs\n",
    "import array \n",
    "from os.path import join as pjoin\n",
    "from PyPDF2 import PdfFileWriter\n",
    "from reportlab.platypus import SimpleDocTemplate\n",
    "from reportlab.lib.styles import getSampleStyleSheet\n",
    "from reportlab.platypus import Paragraph"
   ]
  },
  {
   "cell_type": "code",
   "execution_count": 2,
   "metadata": {},
   "outputs": [],
   "source": [
    "#Enter the location of COD310 directory in your system in this variable\n",
    "args = sys.argv\n",
    "fileName = args[1]\n",
    "pathDirectory = \"/opt/lampp/htdocs/examples/uploads/\"\n"
   ]
  },
  {
   "cell_type": "code",
   "execution_count": 5,
   "metadata": {},
   "outputs": [
    {
     "name": "stdout",
     "output_type": "stream",
     "text": [
      "['bitcoin.pdf']\n"
     ]
    }
   ],
   "source": [
    "file_list = [f for f in os.listdir(pathDirectory) if os.path.isfile(os.path.join(pathDirectory, f)) and f.endswith('.pdf')]\n",
    "print(file_list)"
   ]
  },
  {
   "cell_type": "code",
   "execution_count": 7,
   "metadata": {},
   "outputs": [
    {
     "name": "stdout",
     "output_type": "stream",
     "text": [
      "b1674191a88ec5cdd733e4240a81803105dc412d6c6708d53ab94fc248f4f553\n"
     ]
    }
   ],
   "source": [
    "hashes = []\n",
    "for i in range(len(file_list)):\n",
    "    location = pathDirectory + file_list[i]\n",
    "    hash = hs.fileChecksum(location, \"sha256\")\n",
    "    print(hash)\n",
    "    hashes.append(hash)"
   ]
  },
  {
   "cell_type": "code",
   "execution_count": 8,
   "metadata": {},
   "outputs": [
    {
     "data": {
      "text/plain": [
       "'b1674191a88ec5cdd733e4240a81803105dc412d6c6708d53ab94fc248f4f553'"
      ]
     },
     "execution_count": 8,
     "metadata": {},
     "output_type": "execute_result"
    }
   ],
   "source": [
    "hashes[0]"
   ]
  },
  {
   "cell_type": "code",
   "execution_count": 9,
   "metadata": {},
   "outputs": [
    {
     "name": "stdout",
     "output_type": "stream",
     "text": [
      "The hash of the uploaded file is: b1674191a88ec5cdd733e4240a81803105dc412d6c6708d53ab94fc248f4f553\n"
     ]
    }
   ],
   "source": [
    "print(\"The hash of the uploaded file is: \" + hashes[0])"
   ]
  },
  {
   "cell_type": "code",
   "execution_count": null,
   "metadata": {},
   "outputs": [],
   "source": []
  }
 ],
 "metadata": {
  "kernelspec": {
   "display_name": "Python 3",
   "language": "python",
   "name": "python3"
  },
  "language_info": {
   "codemirror_mode": {
    "name": "ipython",
    "version": 3
   },
   "file_extension": ".py",
   "mimetype": "text/x-python",
   "name": "python",
   "nbconvert_exporter": "python",
   "pygments_lexer": "ipython3",
   "version": "3.7.0"
  }
 },
 "nbformat": 4,
 "nbformat_minor": 2
}
